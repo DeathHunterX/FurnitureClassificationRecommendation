{
 "cells": [
  {
   "cell_type": "code",
   "execution_count": 4,
   "metadata": {},
   "outputs": [
    {
     "name": "stdout",
     "output_type": "stream",
     "text": [
      "All contents in the directory './CrawledData\\beds\\Scandinavian' have been deleted.\n",
      "All contents in the directory './CrawledData\\beds' have been deleted.\n",
      "All contents in the directory './CrawledData' have been deleted.\n"
     ]
    }
   ],
   "source": [
    "import os\n",
    "\n",
    "def delete_contents(directory):\n",
    "    \"\"\"\n",
    "    Recursively delete all files and folders within a directory, excluding the top-level directory itself.\n",
    "    \"\"\"\n",
    "    if not os.path.exists(directory):\n",
    "        print(f\"The directory '{directory}' does not exist.\")\n",
    "        return\n",
    "\n",
    "    # Check if the directory is empty\n",
    "    if not os.listdir(directory):\n",
    "        print(f\"The directory '{directory}' is already empty.\")\n",
    "        return\n",
    "\n",
    "    for root, dirs, files in os.walk(directory):\n",
    "        # Delete all files in the current directory\n",
    "        for file in files:\n",
    "            file_path = os.path.join(root, file)\n",
    "            os.remove(file_path)\n",
    "        # Delete all subdirectories and their contents\n",
    "        for dir in dirs:\n",
    "            dir_path = os.path.join(root, dir)\n",
    "            delete_contents(dir_path)\n",
    "            os.rmdir(dir_path)\n",
    "\n",
    "    print(f\"All contents in the directory '{directory}' have been deleted.\")\n",
    "\n",
    "# Example usage:\n",
    "directory_to_clean = \"./CrawledData\"\n",
    "delete_contents(directory_to_clean)"
   ]
  },
  {
   "cell_type": "code",
   "execution_count": null,
   "metadata": {},
   "outputs": [],
   "source": []
  }
 ],
 "metadata": {
  "kernelspec": {
   "display_name": "DA",
   "language": "python",
   "name": "python3"
  },
  "language_info": {
   "codemirror_mode": {
    "name": "ipython",
    "version": 3
   },
   "file_extension": ".py",
   "mimetype": "text/x-python",
   "name": "python",
   "nbconvert_exporter": "python",
   "pygments_lexer": "ipython3",
   "version": "3.10.13"
  }
 },
 "nbformat": 4,
 "nbformat_minor": 2
}
