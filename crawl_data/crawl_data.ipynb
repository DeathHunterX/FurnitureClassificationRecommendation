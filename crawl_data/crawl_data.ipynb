{
 "cells": [
  {
   "cell_type": "code",
   "execution_count": 36,
   "metadata": {},
   "outputs": [],
   "source": [
    "from selenium.webdriver.edge.service import Service\n",
    "from selenium.webdriver.edge.options import Options\n",
    "from selenium.webdriver import Edge  # Import Edge directly\n",
    "\n",
    "from selenium.webdriver.common.by import By\n",
    "from selenium.common.exceptions import StaleElementReferenceException\n",
    "\n",
    "import time\n",
    "import os\n",
    "\n",
    "def get_unique_image_links(page_urls, exclude_list, max_links, desired_length):\n",
    "    driver = Edge(\n",
    "        executable_path=\"./msedgedriver.exe\"\n",
    "    )     # Use Edge directly here\n",
    "    unique_links = set()\n",
    "\n",
    "    for page_url in page_urls:\n",
    "        driver.get(page_url)\n",
    "        while len(unique_links) < max_links:\n",
    "            prev_height = driver.execute_script(\"return document.documentElement.scrollHeight\")\n",
    "            driver.execute_script(\"window.scrollTo(0, document.documentElement.scrollHeight);\")\n",
    "            time.sleep(1) \n",
    "            try:\n",
    "                images = driver.find_elements(By.TAG_NAME, 'img')\n",
    "                image_links = []\n",
    "                for image in images:\n",
    "                    imgData = image.get_attribute('src')\n",
    "                    if imgData and imgData.startswith('https'):\n",
    "                        image_links.append(imgData)\n",
    "\n",
    "                for imgData in image_links:\n",
    "                    if imgData not in unique_links:\n",
    "                        if not any(exclude_value in imgData for exclude_value in exclude_list):\n",
    "                            if len(imgData) == desired_length:\n",
    "                                unique_links.add(imgData)\n",
    "                            if len(unique_links) == max_links:\n",
    "                                break\n",
    "            except StaleElementReferenceException:\n",
    "                continue\n",
    "            new_height = driver.execute_script(\"return document.documentElement.scrollHeight\")\n",
    "            if new_height == prev_height:\n",
    "                break\n",
    "\n",
    "    driver.quit()\n",
    "\n",
    "    for link in unique_links:\n",
    "        print(link)\n",
    "\n",
    "    return unique_links\n"
   ]
  },
  {
   "cell_type": "code",
   "execution_count": 43,
   "metadata": {},
   "outputs": [],
   "source": [
    "page_url = ['https://www.google.com/search?q=sofas+asian+modern&tbm=isch&ved=2ahUKEwjZ-LLI5fOFAxWHWPUHHcz5DdsQ2-cCegQIABAA&oq=sofas+asian+modern&gs_lp=EgNpbWciEnNvZmFzIGFzaWFuIG1vZGVybkiZU1CKBlisUHAOeACQAQCYAZIBoAGqFKoBBDIzLjS4AQPIAQD4AQGKAgtnd3Mtd2l6LWltZ8ICBBAjGCfCAgoQABiABBhDGIoFwgIFEAAYgATCAggQABiABBixA8ICBBAAGB7CAgcQABiABBgTwgIGEAAYCBgewgIGEAAYExgewgIIEAAYExgIGB6IBgE&sclient=img&ei=pg42ZtmNIYex1e8PzPO32A0&bih=754&biw=1495&prmd=sivnbtz&hl=vi']\n",
    "exclude_list = []\n",
    "max_links = 500\n",
    "IMG_LINKS=get_unique_image_links(page_url, exclude_list, max_links, 99)"
   ]
  },
  {
   "cell_type": "code",
   "execution_count": 41,
   "metadata": {},
   "outputs": [
    {
     "data": {
      "text/plain": [
       "0"
      ]
     },
     "execution_count": 41,
     "metadata": {},
     "output_type": "execute_result"
    }
   ],
   "source": [
    "len(IMG_LINKS)"
   ]
  }
 ],
 "metadata": {
  "kernelspec": {
   "display_name": "DA",
   "language": "python",
   "name": "python3"
  },
  "language_info": {
   "codemirror_mode": {
    "name": "ipython",
    "version": 3
   },
   "file_extension": ".py",
   "mimetype": "text/x-python",
   "name": "python",
   "nbconvert_exporter": "python",
   "pygments_lexer": "ipython3",
   "version": "3.10.13"
  }
 },
 "nbformat": 4,
 "nbformat_minor": 2
}
